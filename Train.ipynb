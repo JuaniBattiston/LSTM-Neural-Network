{
 "cells": [
  {
   "cell_type": "code",
   "execution_count": 7,
   "id": "f13083c2-dde3-4add-9a01-e10a718d5bf6",
   "metadata": {},
   "outputs": [],
   "source": [
    "from sklearn.model_selection import train_test_split\n",
    "from tensorflow.keras.utils import to_categorical\n",
    "import numpy as np\n",
    "import os"
   ]
  },
  {
   "cell_type": "code",
   "execution_count": 15,
   "id": "b08a856c-8dd4-41d1-9f62-fb734a5973e8",
   "metadata": {},
   "outputs": [],
   "source": [
    "actions = np.array(['hola', 'j', 'no'])\n",
    "#Add abs path to desired folder\n",
    "DATA_PATH = os.path.abspath(\"\")\n",
    "no_sequences = 30\n",
    "sequence_length = 30\n",
    "start_folder = 30"
   ]
  },
  {
   "cell_type": "code",
   "execution_count": 16,
   "id": "41406e98-b766-4eb9-b0c9-9027ff64faeb",
   "metadata": {},
   "outputs": [],
   "source": [
    "label_map = {label:num for num, label in enumerate(actions)}"
   ]
  },
  {
   "cell_type": "code",
   "execution_count": null,
   "id": "ab85a216-8d51-4592-b033-34115e1c3b27",
   "metadata": {},
   "outputs": [],
   "source": [
    "sequences, labels = [], []\n",
    "for action in actions:\n",
    "    for sequence in np.array(os.listdir(os.path.join(DATA_PATH, action))).astype(int):\n",
    "        window = []\n",
    "        for frame_num in range(sequence_length):\n",
    "            res = np.load(os.path.join(DATA_PATH, action, str(sequence), \"{}.npy\".format(frame_num)))\n",
    "            if res.shape != (63,):\n",
    "                continue\n",
    "            window.append(res)\n",
    "        \n",
    "        if len(window) != sequence_length:\n",
    "            continue\n",
    "        \n",
    "        sequences.append(window)\n",
    "        labels.append(label_map[action])\n",
    "\n",
    "sequences = np.array(sequences)\n",
    "print(f\"Shape of sequences: {sequences.shape}\")\n",
    "print(f\"Shape of labels: {np.array(labels).shape}\")"
   ]
  },
  {
   "cell_type": "code",
   "execution_count": 25,
   "id": "7ce751af-5621-4378-9912-ece142b9fc0e",
   "metadata": {},
   "outputs": [],
   "source": [
    "np.array(sequences).shape\n",
    "X = np.array(sequences)\n",
    "y = to_categorical(labels).astype(int)\n",
    "X_train, X_test, y_train, y_test = train_test_split(X, y, test_size=0.05)"
   ]
  },
  {
   "cell_type": "code",
   "execution_count": 26,
   "id": "26b43954-8d9e-44aa-8f5b-a79e67b7ca6f",
   "metadata": {},
   "outputs": [],
   "source": [
    "from tensorflow.keras.models import Sequential\n",
    "from tensorflow.keras.layers import LSTM, Dense\n",
    "from tensorflow.keras.callbacks import TensorBoard"
   ]
  },
  {
   "cell_type": "code",
   "execution_count": 27,
   "id": "476b5601-bff1-4cda-87e2-17114ae88927",
   "metadata": {},
   "outputs": [],
   "source": [
    "log_dir = os.path.join('Logs')\n",
    "tb_callback = TensorBoard(log_dir=log_dir)"
   ]
  },
  {
   "cell_type": "code",
   "execution_count": 28,
   "id": "87342839-ce86-4d05-b56b-636b0d7df0bf",
   "metadata": {},
   "outputs": [],
   "source": [
    "model = Sequential()\n",
    "model.add(LSTM(64, return_sequences=True, activation='relu', input_shape=(30,63)))\n",
    "model.add(LSTM(128, return_sequences=True, activation='relu'))\n",
    "model.add(LSTM(64, return_sequences=False, activation='relu'))\n",
    "model.add(Dense(64, activation='relu'))\n",
    "model.add(Dense(32, activation='relu'))\n",
    "model.add(Dense(actions.shape[0], activation='softmax'))"
   ]
  },
  {
   "cell_type": "code",
   "execution_count": 29,
   "id": "03e4b54b-3e2f-41a8-8f22-c970aee4f75e",
   "metadata": {},
   "outputs": [],
   "source": [
    "model.compile(optimizer='Adam', loss='categorical_crossentropy', metrics=['categorical_accuracy'])"
   ]
  },
  {
   "cell_type": "code",
   "execution_count": null,
   "id": "b4c27d53-c688-41e9-83b2-050d4be1ced4",
   "metadata": {},
   "outputs": [],
   "source": [
    "EPOCHS_NUM = 180\n",
    "model.fit(X_train, y_train, epochs=EPOCHS_NUM, callbacks=[tb_callback])"
   ]
  },
  {
   "cell_type": "code",
   "execution_count": null,
   "id": "605e1d45-a674-43a6-b819-0bbcf889d785",
   "metadata": {},
   "outputs": [],
   "source": [
    "model.summary()"
   ]
  },
  {
   "cell_type": "code",
   "execution_count": null,
   "id": "8c7033a7-d952-432b-91f9-8671bf7a059d",
   "metadata": {},
   "outputs": [],
   "source": [
    "model.save('action.h5')"
   ]
  }
 ],
 "metadata": {
  "kernelspec": {
   "display_name": "Python 3 (ipykernel)",
   "language": "python",
   "name": "python3"
  },
  "language_info": {
   "codemirror_mode": {
    "name": "ipython",
    "version": 3
   },
   "file_extension": ".py",
   "mimetype": "text/x-python",
   "name": "python",
   "nbconvert_exporter": "python",
   "pygments_lexer": "ipython3",
   "version": "3.8.10"
  }
 },
 "nbformat": 4,
 "nbformat_minor": 5
}
